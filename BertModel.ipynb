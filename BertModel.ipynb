{
  "nbformat": 4,
  "nbformat_minor": 0,
  "metadata": {
    "colab": {
      "provenance": [],
      "collapsed_sections": []
    },
    "kernelspec": {
      "name": "python3",
      "display_name": "Python 3"
    },
    "language_info": {
      "name": "python"
    }
  },
  "cells": [
    {
      "cell_type": "code",
      "execution_count": 1,
      "metadata": {
        "id": "oENI5-_tEF4D",
        "colab": {
          "base_uri": "https://localhost:8080/"
        },
        "outputId": "d9fa7918-bcce-43eb-9f72-008588673d39"
      },
      "outputs": [
        {
          "output_type": "stream",
          "name": "stdout",
          "text": [
            "Looking in indexes: https://pypi.org/simple, https://us-python.pkg.dev/colab-wheels/public/simple/\n",
            "Collecting transformers\n",
            "  Downloading transformers-4.23.1-py3-none-any.whl (5.3 MB)\n",
            "\u001b[K     |████████████████████████████████| 5.3 MB 27.9 MB/s \n",
            "\u001b[?25hRequirement already satisfied: pyyaml>=5.1 in /usr/local/lib/python3.7/dist-packages (from transformers) (6.0)\n",
            "Collecting tokenizers!=0.11.3,<0.14,>=0.11.1\n",
            "  Downloading tokenizers-0.13.1-cp37-cp37m-manylinux_2_17_x86_64.manylinux2014_x86_64.whl (7.6 MB)\n",
            "\u001b[K     |████████████████████████████████| 7.6 MB 57.2 MB/s \n",
            "\u001b[?25hRequirement already satisfied: regex!=2019.12.17 in /usr/local/lib/python3.7/dist-packages (from transformers) (2022.6.2)\n",
            "Requirement already satisfied: packaging>=20.0 in /usr/local/lib/python3.7/dist-packages (from transformers) (21.3)\n",
            "Collecting huggingface-hub<1.0,>=0.10.0\n",
            "  Downloading huggingface_hub-0.10.1-py3-none-any.whl (163 kB)\n",
            "\u001b[K     |████████████████████████████████| 163 kB 96.1 MB/s \n",
            "\u001b[?25hRequirement already satisfied: importlib-metadata in /usr/local/lib/python3.7/dist-packages (from transformers) (4.13.0)\n",
            "Requirement already satisfied: numpy>=1.17 in /usr/local/lib/python3.7/dist-packages (from transformers) (1.21.6)\n",
            "Requirement already satisfied: tqdm>=4.27 in /usr/local/lib/python3.7/dist-packages (from transformers) (4.64.1)\n",
            "Requirement already satisfied: requests in /usr/local/lib/python3.7/dist-packages (from transformers) (2.23.0)\n",
            "Requirement already satisfied: filelock in /usr/local/lib/python3.7/dist-packages (from transformers) (3.8.0)\n",
            "Requirement already satisfied: typing-extensions>=3.7.4.3 in /usr/local/lib/python3.7/dist-packages (from huggingface-hub<1.0,>=0.10.0->transformers) (4.1.1)\n",
            "Requirement already satisfied: pyparsing!=3.0.5,>=2.0.2 in /usr/local/lib/python3.7/dist-packages (from packaging>=20.0->transformers) (3.0.9)\n",
            "Requirement already satisfied: zipp>=0.5 in /usr/local/lib/python3.7/dist-packages (from importlib-metadata->transformers) (3.9.0)\n",
            "Requirement already satisfied: urllib3!=1.25.0,!=1.25.1,<1.26,>=1.21.1 in /usr/local/lib/python3.7/dist-packages (from requests->transformers) (1.24.3)\n",
            "Requirement already satisfied: chardet<4,>=3.0.2 in /usr/local/lib/python3.7/dist-packages (from requests->transformers) (3.0.4)\n",
            "Requirement already satisfied: certifi>=2017.4.17 in /usr/local/lib/python3.7/dist-packages (from requests->transformers) (2022.9.24)\n",
            "Requirement already satisfied: idna<3,>=2.5 in /usr/local/lib/python3.7/dist-packages (from requests->transformers) (2.10)\n",
            "Installing collected packages: tokenizers, huggingface-hub, transformers\n",
            "Successfully installed huggingface-hub-0.10.1 tokenizers-0.13.1 transformers-4.23.1\n",
            "Mounted at /content/drive\n"
          ]
        }
      ],
      "source": [
        "! pip install transformers\n",
        "\n",
        "from transformers import AutoTokenizer, AutoModelForMaskedLM\n",
        "from google.colab import drive\n",
        "from pandas import DataFrame\n",
        "import pandas as pd\n",
        "import os\n",
        "import torch\n",
        "import time\n",
        "\n",
        "drive.mount('/content/drive')\n",
        "\n",
        "folder = \"drive/Othercomputers/Il mio Laptop/Universita/[IA] Artificial Intelligence/[HLT] Human Language Technologies/project/\"\n",
        "bertModel  = \"dbmdz/bert-base-italian-xxl-cased\"\n",
        "\n",
        "# start_time = time.time()\n",
        "# print(\"--- %s seconds ---\" % (time.time() - start_time))"
      ]
    },
    {
      "cell_type": "code",
      "source": [
        "dataset = pd.read_csv(folder+\"Sources/dataset.csv\")"
      ],
      "metadata": {
        "id": "Dr_8EupGN1q7"
      },
      "execution_count": 2,
      "outputs": []
    },
    {
      "cell_type": "code",
      "source": [
        "dataset"
      ],
      "metadata": {
        "colab": {
          "base_uri": "https://localhost:8080/",
          "height": 424
        },
        "id": "qb5kDxtu8GAT",
        "outputId": "1bb398a4-09b4-4c49-faef-85007f1e5e62"
      },
      "execution_count": 3,
      "outputs": [
        {
          "output_type": "execute_result",
          "data": {
            "text/plain": [
              "                                                    text  \\\n",
              "0            Non ipertensione , dislipidemia o diabete .   \n",
              "1      Nel 2003 operata di sostituzione valvolare per...   \n",
              "2      Agli inizi del 2006 frattura traumatica di rad...   \n",
              "3      Nel settembre 2006 frattura traumatica di femo...   \n",
              "4      riconoscimento di osteoporosi con mancato cons...   \n",
              "...                                                  ...   \n",
              "69925  Si segnala all' ecg recidiva dell' aritmia da ...   \n",
              "69926  In considerazione delle condizioni cliniche ge...   \n",
              "69927  Tra circa 3 mesi ripetere un ecg dinamico di 2...   \n",
              "69928  Setto nasale lievemente deviato verso sn. Rino...   \n",
              "69929  Calo ponderale CPAP Lascerei la chirurgia a li...   \n",
              "\n",
              "                                                  labels  \n",
              "0                           O B-DISO O B-DISO O B-DISO O  \n",
              "1        O O O O O O O B-DISO I-DISO O O O O O O O O O O  \n",
              "2       O O O O B-DISO O O O O O O O O O O O O O O O ...  \n",
              "3       O O O B-DISO O O O O O O O O O O O O O O O O O O  \n",
              "4                            O O B-DISO O O O O B-DISO O  \n",
              "...                                                  ...  \n",
              "69925                     O O O B-TREA O O O O O O O O O  \n",
              "69926   O O O O O O O O O O O O O O O O O O B-TREA O ...  \n",
              "69927                   O O O O O O B-TREA O O O O O O O  \n",
              "69928                          B-BODY I-BODY O O O O O O  \n",
              "69929   O O O O O B-TREA O O O O O O O O O O O O O O O O  \n",
              "\n",
              "[69930 rows x 2 columns]"
            ],
            "text/html": [
              "\n",
              "  <div id=\"df-48dad6ce-340e-4ba5-96bc-8e98e12faaee\">\n",
              "    <div class=\"colab-df-container\">\n",
              "      <div>\n",
              "<style scoped>\n",
              "    .dataframe tbody tr th:only-of-type {\n",
              "        vertical-align: middle;\n",
              "    }\n",
              "\n",
              "    .dataframe tbody tr th {\n",
              "        vertical-align: top;\n",
              "    }\n",
              "\n",
              "    .dataframe thead th {\n",
              "        text-align: right;\n",
              "    }\n",
              "</style>\n",
              "<table border=\"1\" class=\"dataframe\">\n",
              "  <thead>\n",
              "    <tr style=\"text-align: right;\">\n",
              "      <th></th>\n",
              "      <th>text</th>\n",
              "      <th>labels</th>\n",
              "    </tr>\n",
              "  </thead>\n",
              "  <tbody>\n",
              "    <tr>\n",
              "      <th>0</th>\n",
              "      <td>Non ipertensione , dislipidemia o diabete .</td>\n",
              "      <td>O B-DISO O B-DISO O B-DISO O</td>\n",
              "    </tr>\n",
              "    <tr>\n",
              "      <th>1</th>\n",
              "      <td>Nel 2003 operata di sostituzione valvolare per...</td>\n",
              "      <td>O O O O O O O B-DISO I-DISO O O O O O O O O O O</td>\n",
              "    </tr>\n",
              "    <tr>\n",
              "      <th>2</th>\n",
              "      <td>Agli inizi del 2006 frattura traumatica di rad...</td>\n",
              "      <td>O O O O B-DISO O O O O O O O O O O O O O O O ...</td>\n",
              "    </tr>\n",
              "    <tr>\n",
              "      <th>3</th>\n",
              "      <td>Nel settembre 2006 frattura traumatica di femo...</td>\n",
              "      <td>O O O B-DISO O O O O O O O O O O O O O O O O O O</td>\n",
              "    </tr>\n",
              "    <tr>\n",
              "      <th>4</th>\n",
              "      <td>riconoscimento di osteoporosi con mancato cons...</td>\n",
              "      <td>O O B-DISO O O O O B-DISO O</td>\n",
              "    </tr>\n",
              "    <tr>\n",
              "      <th>...</th>\n",
              "      <td>...</td>\n",
              "      <td>...</td>\n",
              "    </tr>\n",
              "    <tr>\n",
              "      <th>69925</th>\n",
              "      <td>Si segnala all' ecg recidiva dell' aritmia da ...</td>\n",
              "      <td>O O O B-TREA O O O O O O O O O</td>\n",
              "    </tr>\n",
              "    <tr>\n",
              "      <th>69926</th>\n",
              "      <td>In considerazione delle condizioni cliniche ge...</td>\n",
              "      <td>O O O O O O O O O O O O O O O O O O B-TREA O ...</td>\n",
              "    </tr>\n",
              "    <tr>\n",
              "      <th>69927</th>\n",
              "      <td>Tra circa 3 mesi ripetere un ecg dinamico di 2...</td>\n",
              "      <td>O O O O O O B-TREA O O O O O O O</td>\n",
              "    </tr>\n",
              "    <tr>\n",
              "      <th>69928</th>\n",
              "      <td>Setto nasale lievemente deviato verso sn. Rino...</td>\n",
              "      <td>B-BODY I-BODY O O O O O O</td>\n",
              "    </tr>\n",
              "    <tr>\n",
              "      <th>69929</th>\n",
              "      <td>Calo ponderale CPAP Lascerei la chirurgia a li...</td>\n",
              "      <td>O O O O O B-TREA O O O O O O O O O O O O O O O O</td>\n",
              "    </tr>\n",
              "  </tbody>\n",
              "</table>\n",
              "<p>69930 rows × 2 columns</p>\n",
              "</div>\n",
              "      <button class=\"colab-df-convert\" onclick=\"convertToInteractive('df-48dad6ce-340e-4ba5-96bc-8e98e12faaee')\"\n",
              "              title=\"Convert this dataframe to an interactive table.\"\n",
              "              style=\"display:none;\">\n",
              "        \n",
              "  <svg xmlns=\"http://www.w3.org/2000/svg\" height=\"24px\"viewBox=\"0 0 24 24\"\n",
              "       width=\"24px\">\n",
              "    <path d=\"M0 0h24v24H0V0z\" fill=\"none\"/>\n",
              "    <path d=\"M18.56 5.44l.94 2.06.94-2.06 2.06-.94-2.06-.94-.94-2.06-.94 2.06-2.06.94zm-11 1L8.5 8.5l.94-2.06 2.06-.94-2.06-.94L8.5 2.5l-.94 2.06-2.06.94zm10 10l.94 2.06.94-2.06 2.06-.94-2.06-.94-.94-2.06-.94 2.06-2.06.94z\"/><path d=\"M17.41 7.96l-1.37-1.37c-.4-.4-.92-.59-1.43-.59-.52 0-1.04.2-1.43.59L10.3 9.45l-7.72 7.72c-.78.78-.78 2.05 0 2.83L4 21.41c.39.39.9.59 1.41.59.51 0 1.02-.2 1.41-.59l7.78-7.78 2.81-2.81c.8-.78.8-2.07 0-2.86zM5.41 20L4 18.59l7.72-7.72 1.47 1.35L5.41 20z\"/>\n",
              "  </svg>\n",
              "      </button>\n",
              "      \n",
              "  <style>\n",
              "    .colab-df-container {\n",
              "      display:flex;\n",
              "      flex-wrap:wrap;\n",
              "      gap: 12px;\n",
              "    }\n",
              "\n",
              "    .colab-df-convert {\n",
              "      background-color: #E8F0FE;\n",
              "      border: none;\n",
              "      border-radius: 50%;\n",
              "      cursor: pointer;\n",
              "      display: none;\n",
              "      fill: #1967D2;\n",
              "      height: 32px;\n",
              "      padding: 0 0 0 0;\n",
              "      width: 32px;\n",
              "    }\n",
              "\n",
              "    .colab-df-convert:hover {\n",
              "      background-color: #E2EBFA;\n",
              "      box-shadow: 0px 1px 2px rgba(60, 64, 67, 0.3), 0px 1px 3px 1px rgba(60, 64, 67, 0.15);\n",
              "      fill: #174EA6;\n",
              "    }\n",
              "\n",
              "    [theme=dark] .colab-df-convert {\n",
              "      background-color: #3B4455;\n",
              "      fill: #D2E3FC;\n",
              "    }\n",
              "\n",
              "    [theme=dark] .colab-df-convert:hover {\n",
              "      background-color: #434B5C;\n",
              "      box-shadow: 0px 1px 3px 1px rgba(0, 0, 0, 0.15);\n",
              "      filter: drop-shadow(0px 1px 2px rgba(0, 0, 0, 0.3));\n",
              "      fill: #FFFFFF;\n",
              "    }\n",
              "  </style>\n",
              "\n",
              "      <script>\n",
              "        const buttonEl =\n",
              "          document.querySelector('#df-48dad6ce-340e-4ba5-96bc-8e98e12faaee button.colab-df-convert');\n",
              "        buttonEl.style.display =\n",
              "          google.colab.kernel.accessAllowed ? 'block' : 'none';\n",
              "\n",
              "        async function convertToInteractive(key) {\n",
              "          const element = document.querySelector('#df-48dad6ce-340e-4ba5-96bc-8e98e12faaee');\n",
              "          const dataTable =\n",
              "            await google.colab.kernel.invokeFunction('convertToInteractive',\n",
              "                                                     [key], {});\n",
              "          if (!dataTable) return;\n",
              "\n",
              "          const docLinkHtml = 'Like what you see? Visit the ' +\n",
              "            '<a target=\"_blank\" href=https://colab.research.google.com/notebooks/data_table.ipynb>data table notebook</a>'\n",
              "            + ' to learn more about interactive tables.';\n",
              "          element.innerHTML = '';\n",
              "          dataTable['output_type'] = 'display_data';\n",
              "          await google.colab.output.renderOutput(dataTable, element);\n",
              "          const docLink = document.createElement('div');\n",
              "          docLink.innerHTML = docLinkHtml;\n",
              "          element.appendChild(docLink);\n",
              "        }\n",
              "      </script>\n",
              "    </div>\n",
              "  </div>\n",
              "  "
            ]
          },
          "metadata": {},
          "execution_count": 3
        }
      ]
    },
    {
      "cell_type": "code",
      "source": [
        "labels_to_ids = {'B-ACTI': 0, 'B-BODY': 1, 'B-DISO': 2, 'B-DRUG': 3, 'B-SIGN': 4, 'B-TREA': 5, 'I-ACTI': 6, 'I-BODY': 7, 'I-DISO': 8, 'I-DRUG': 9, 'I-SIGN': 10, 'I-TREA': 11, 'O': 12}"
      ],
      "metadata": {
        "id": "raFkF1HKxbkF"
      },
      "execution_count": 4,
      "outputs": []
    },
    {
      "cell_type": "code",
      "source": [
        "tokenizer = AutoTokenizer.from_pretrained(bertModel)"
      ],
      "metadata": {
        "id": "TStEQ87_xbf0"
      },
      "execution_count": 6,
      "outputs": []
    },
    {
      "cell_type": "code",
      "source": [
        "def align_label(token: list, labels: str):\n",
        "  # Trasforming a string of label into array\n",
        "  labels = labels.split()\n",
        "\n",
        "  # We take into cosideration the previous word to identify if the id is already seen\n",
        "  previous_id = None\n",
        "  # Aligned labels\n",
        "  label_ids = []\n",
        "\n",
        "  # We can all ids in the token and we try to associate to a label  \n",
        "  for word_idx in token:\n",
        "\n",
        "    # typically when we encounter [CLS]\n",
        "    if word_idx is None: \n",
        "      label_ids.append(-100)\n",
        "    else:\n",
        "      # We try to associate a label\n",
        "      try:\n",
        "        label_ids.append(labels_to_ids[labels[word_idx]])\n",
        "      except:\n",
        "        label_ids.append(-100)\n",
        "    \n",
        "    previous_id = word_idx \n",
        "    \n",
        "  return label_ids"
      ],
      "metadata": {
        "id": "vO4a9Vgc0nv-"
      },
      "execution_count": 7,
      "outputs": []
    },
    {
      "cell_type": "code",
      "source": [
        "texts,labels = [],[]\n",
        "for _,row in dataset.iterrows():\n",
        "  token_text = tokenizer(row[0], padding='max_length', max_length = 512, truncation=True, return_tensors=\"pt\")\n",
        "  label_ids = align_label(token_text.word_ids(),row[1])\n",
        "\n",
        "  texts.append(token_text)\n",
        "  labels.append(label_ids)"
      ],
      "metadata": {
        "id": "KJwdpH-DzHyT"
      },
      "execution_count": 8,
      "outputs": []
    },
    {
      "cell_type": "code",
      "source": [
        "# tokenized_texts = []\n",
        "# for text in dataset['text'].values.tolist():\n",
        "#   tokenized_texts.append(tokenizer(text,padding='max_length', max_length = 512, truncation=True, return_tensors=\"pt\"))  "
      ],
      "metadata": {
        "id": "Uo9sxHuzvBDq"
      },
      "execution_count": 7,
      "outputs": []
    },
    {
      "cell_type": "code",
      "source": [
        "# text = dataset.iloc[4].text\n",
        "# label = dataset.iloc[4].labels\n",
        "# tokens = tokenizer(text,padding='max_length', max_length = 512, truncation=True, return_tensors=\"pt\")\n",
        "# r = align_label(text,label)"
      ],
      "metadata": {
        "id": "uSK8d5x7Mvqs"
      },
      "execution_count": 8,
      "outputs": []
    },
    {
      "cell_type": "code",
      "source": [
        "# texts = []\n",
        "# for text in dataset['text'].values.tolist():\n",
        "#   texts.append(tokenizer(text,padding='max_length', max_length = 512, truncation=True, return_tensors=\"pt\"))  "
      ],
      "metadata": {
        "id": "4-YBkIUnkTqN"
      },
      "execution_count": 9,
      "outputs": []
    },
    {
      "cell_type": "code",
      "source": [
        "# labels = []\n",
        "# for i,j in zip(text, dataset['labels'].values.tolist()):\n",
        "#   labels.append(align_label(i,j))"
      ],
      "metadata": {
        "id": "pUAGCoXpltaG"
      },
      "execution_count": 10,
      "outputs": []
    },
    {
      "cell_type": "code",
      "source": [
        "# class DataSequence(torch.utils.data.Dataset):\n",
        "\n",
        "#     def __init__(self, df):\n",
        "\n",
        "#         lb = [i.split() for i in df['labels'].values.tolist()]\n",
        "#         txt = df['text'].values.tolist()\n",
        "#         self.texts = [tokenizer(str(i),\n",
        "#                                padding='max_length', max_length = 512, truncation=True, return_tensors=\"pt\") for i in txt]\n",
        "#         self.labels = [align_label(i,j) for i,j in zip(txt, lb)]\n",
        "\n",
        "#     def __len__(self):\n",
        "\n",
        "#         return len(self.labels)\n",
        "\n",
        "#     def get_batch_data(self, idx):\n",
        "\n",
        "#         return self.texts[idx]\n",
        "\n",
        "#     def get_batch_labels(self, idx):\n",
        "\n",
        "#         return torch.LongTensor(self.labels[idx])\n",
        "\n",
        "#     def __getitem__(self, idx):\n",
        "\n",
        "#         batch_data = self.get_batch_data(idx)\n",
        "#         batch_labels = self.get_batch_labels(idx)\n",
        "\n",
        "#         return batch_data, batch_labels"
      ],
      "metadata": {
        "id": "x-8BgNPyjHzk"
      },
      "execution_count": 11,
      "outputs": []
    }
  ]
}